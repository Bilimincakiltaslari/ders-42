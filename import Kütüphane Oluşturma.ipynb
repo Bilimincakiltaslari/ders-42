{
 "cells": [
  {
   "cell_type": "code",
   "execution_count": null,
   "metadata": {},
   "outputs": [],
   "source": [
    "%%writefile hesap.py\n",
    "print(\"Modul çalıştırıldı.\")\n",
    "def t(x,y):\n",
    "    print (x,\"+\",y,\"=\",x+y)\n",
    "def f(x,y):\n",
    "    print (x,\"-\",y,\"=\",x-y)\n",
    "def ç(x,y):\n",
    "    print (x,\"*\",y,\"=\",x*y)\n",
    "def b(x,y):\n",
    "    print (x,\"/\",y,\"=\",x/y)"
   ]
  },
  {
   "cell_type": "code",
   "execution_count": null,
   "metadata": {},
   "outputs": [],
   "source": [
    "import hesap"
   ]
  },
  {
   "cell_type": "code",
   "execution_count": null,
   "metadata": {},
   "outputs": [],
   "source": [
    "hesap.ç(3,7)"
   ]
  },
  {
   "cell_type": "code",
   "execution_count": null,
   "metadata": {},
   "outputs": [],
   "source": [
    "from hesap import t,f,b,ç"
   ]
  },
  {
   "cell_type": "code",
   "execution_count": null,
   "metadata": {},
   "outputs": [],
   "source": [
    "ç(3,7)"
   ]
  },
  {
   "cell_type": "code",
   "execution_count": null,
   "metadata": {},
   "outputs": [],
   "source": [
    "%%writefile yazi.py\n",
    "print(\"Yazı modulü çalıştırıldı\")\n",
    "def a():\n",
    "    print(\"\"\"*************************************************** \n",
    "*   Matematik   *      Fen       *     Türkçe     *\n",
    "***************************************************\"\"\")\n",
    "def n(x,y,z):\n",
    "    print(\"{:>10}{:>16}{:>18}\\t\".format(x,y,z), end=\"\")\n",
    "    print()"
   ]
  },
  {
   "cell_type": "code",
   "execution_count": null,
   "metadata": {},
   "outputs": [],
   "source": [
    "import yazi"
   ]
  },
  {
   "cell_type": "code",
   "execution_count": null,
   "metadata": {},
   "outputs": [],
   "source": [
    "yazi.a()\n",
    "yazi.n(95,100,98)\n",
    "yazi.n(90,85,84)\n",
    "yazi.n(45,66,90)\n",
    "yazi.n(64,75,85)"
   ]
  },
  {
   "cell_type": "code",
   "execution_count": null,
   "metadata": {},
   "outputs": [],
   "source": [
    "from yazi import a,n"
   ]
  },
  {
   "cell_type": "code",
   "execution_count": null,
   "metadata": {},
   "outputs": [],
   "source": [
    "a()\n",
    "n(95,100,98)\n",
    "n(90,85,84)\n",
    "n(45,66,90)\n",
    "n(64,75,85)"
   ]
  },
  {
   "cell_type": "code",
   "execution_count": null,
   "metadata": {},
   "outputs": [],
   "source": [
    "# Python Module Örneği\n",
    "def topla(a, b):\n",
    "   \"\"\"Bu program iki sayıyı toplar\n",
    "    ve toplanan değerleri döndürür\"\"\"\n",
    "   sonuc = a + b\n",
    "   return sonuc # bu satırı örnek.py olarak kaydederseniz import komutu\n",
    "                # ile çağırabilirsiniz."
   ]
  },
  {
   "cell_type": "code",
   "execution_count": null,
   "metadata": {},
   "outputs": [],
   "source": [
    "a,b=1,1\n",
    "L = [1,1]\n",
    "n = int(input(\"Fibonoci terim sayısı\" ))\n",
    "for i in range(n-2):\n",
    "    a,b = b,a+b\n",
    "    L += [b]\n",
    "print(L)\n",
    "print(\"altın oran =\",b/a)"
   ]
  },
  {
   "cell_type": "code",
   "execution_count": null,
   "metadata": {},
   "outputs": [],
   "source": []
  }
 ],
 "metadata": {
  "kernelspec": {
   "display_name": "Python 3",
   "language": "python",
   "name": "python3"
  },
  "language_info": {
   "codemirror_mode": {
    "name": "ipython",
    "version": 3
   },
   "file_extension": ".py",
   "mimetype": "text/x-python",
   "name": "python",
   "nbconvert_exporter": "python",
   "pygments_lexer": "ipython3",
   "version": "3.7.3"
  }
 },
 "nbformat": 4,
 "nbformat_minor": 2
}
